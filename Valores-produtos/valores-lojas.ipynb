{
 "cells": [
  {
   "cell_type": "markdown",
   "id": "9c759558",
   "metadata": {},
   "source": [
    "# Importando as Bibliotecas utilizadas no Projeto"
   ]
  },
  {
   "cell_type": "code",
   "execution_count": 4,
   "id": "b3825b80",
   "metadata": {},
   "outputs": [],
   "source": [
    "import pandas as pd\n",
    "from selenium import webdriver\n",
    "import datetime\n",
    "import warnings\n",
    "warnings.filterwarnings('ignore')\n",
    "import time"
   ]
  },
  {
   "cell_type": "markdown",
   "id": "2864919f",
   "metadata": {},
   "source": [
    "# Importando a tabela de Produtos do excel para o Python"
   ]
  },
  {
   "cell_type": "code",
   "execution_count": 5,
   "id": "da910f0d",
   "metadata": {},
   "outputs": [
    {
     "data": {
      "text/html": [
       "<div>\n",
       "<style scoped>\n",
       "    .dataframe tbody tr th:only-of-type {\n",
       "        vertical-align: middle;\n",
       "    }\n",
       "\n",
       "    .dataframe tbody tr th {\n",
       "        vertical-align: top;\n",
       "    }\n",
       "\n",
       "    .dataframe thead th {\n",
       "        text-align: right;\n",
       "    }\n",
       "</style>\n",
       "<table border=\"1\" class=\"dataframe\">\n",
       "  <thead>\n",
       "    <tr style=\"text-align: right;\">\n",
       "      <th></th>\n",
       "      <th>Link Produto</th>\n",
       "      <th>Amazon</th>\n",
       "      <th>Lojas Americanas</th>\n",
       "      <th>Magazine Luiza</th>\n",
       "      <th>Preço Original</th>\n",
       "      <th>Preço Atual</th>\n",
       "      <th>Local</th>\n",
       "    </tr>\n",
       "  </thead>\n",
       "  <tbody>\n",
       "    <tr>\n",
       "      <th>0</th>\n",
       "      <td>iPhone 11 Apple 64GB Preto</td>\n",
       "      <td>https://www.amazon.com.br/Apple-MHDA3BR-A-iPho...</td>\n",
       "      <td>https://www.americanas.com.br/produto/16113159...</td>\n",
       "      <td>https://www.magazineluiza.com.br/iphone-11-app...</td>\n",
       "      <td>5297</td>\n",
       "      <td>0</td>\n",
       "      <td>0</td>\n",
       "    </tr>\n",
       "    <tr>\n",
       "      <th>1</th>\n",
       "      <td>Smart TV LED 50'' LG Ultra HD 4K Thinq AI</td>\n",
       "      <td>https://www.amazon.com.br/LG-Bluetooth-Intelig...</td>\n",
       "      <td>https://www.americanas.com.br/produto/39640024...</td>\n",
       "      <td>https://www.magazineluiza.com.br/smart-tv-led-...</td>\n",
       "      <td>2900</td>\n",
       "      <td>0</td>\n",
       "      <td>0</td>\n",
       "    </tr>\n",
       "  </tbody>\n",
       "</table>\n",
       "</div>"
      ],
      "text/plain": [
       "                                Link Produto  \\\n",
       "0                 iPhone 11 Apple 64GB Preto   \n",
       "1  Smart TV LED 50'' LG Ultra HD 4K Thinq AI   \n",
       "\n",
       "                                              Amazon  \\\n",
       "0  https://www.amazon.com.br/Apple-MHDA3BR-A-iPho...   \n",
       "1  https://www.amazon.com.br/LG-Bluetooth-Intelig...   \n",
       "\n",
       "                                    Lojas Americanas  \\\n",
       "0  https://www.americanas.com.br/produto/16113159...   \n",
       "1  https://www.americanas.com.br/produto/39640024...   \n",
       "\n",
       "                                      Magazine Luiza  Preço Original  \\\n",
       "0  https://www.magazineluiza.com.br/iphone-11-app...            5297   \n",
       "1  https://www.magazineluiza.com.br/smart-tv-led-...            2900   \n",
       "\n",
       "  Preço Atual Local  \n",
       "0           0     0  \n",
       "1           0     0  "
      ]
     },
     "execution_count": 5,
     "metadata": {},
     "output_type": "execute_result"
    }
   ],
   "source": [
    "produtos_df = pd.read_excel('Produtos.xlsx')\n",
    "produtos_df = produtos_df.fillna('0')\n",
    "produtos_df"
   ]
  },
  {
   "cell_type": "markdown",
   "id": "d6ac55fd",
   "metadata": {},
   "source": [
    "# Pegando o valor de todos produtos da lista no site das lojas utilizando o selenium de forma automatizada"
   ]
  },
  {
   "cell_type": "code",
   "execution_count": 6,
   "id": "015fd36c",
   "metadata": {},
   "outputs": [
    {
     "name": "stdout",
     "output_type": "stream",
     "text": [
      "O valor da/o iPhone 11 Apple 64GB Preto na Amazon ta R$3.584\n",
      "O valor da/o iPhone 11 Apple 64GB Preto nas Lojas Americas ta R$3484.35\n",
      "O valor da/o iPhone 11 Apple 64GB Preto na Magazine Luiza ta R$3584.35\n",
      "\n",
      "O valor da/o Smart TV LED 50'' LG Ultra HD 4K Thinq AI na Amazon ta R$2.969\n",
      "O valor da/o Smart TV LED 50'' LG Ultra HD 4K Thinq AI nas Lojas Americas ta R$2899.99\n",
      "O valor da/o Smart TV LED 50'' LG Ultra HD 4K Thinq AI na Magazine Luiza ta R$2699.10\n",
      "\n"
     ]
    }
   ],
   "source": [
    "driver = webdriver.Firefox()\n",
    "\n",
    "\n",
    "for i,linha in produtos_df.iterrows():\n",
    "\n",
    "    driver.get(linha['Amazon'])\n",
    "    produto_amazon = driver.find_element_by_class_name('a-price-whole').text\n",
    "    print(\"O valor da/o {} na Amazon ta R${}\".format(linha['Link Produto'],float(produto_amazon)))\n",
    "    \n",
    "    time.sleep(3)\n",
    "\n",
    "    driver.get(linha['Lojas Americanas'])\n",
    "    produto_americanas = driver.find_element_by_class_name('styles__PriceText-sc-x06r9i-0').text\n",
    "    print(\"O valor da/o {} nas Lojas Americas ta R${}\".format(linha['Link Produto'],float(produto_americanas.replace('R$',\"\").replace('.','').replace(',','.'))))\n",
    "     \n",
    "    time.sleep(1)\n",
    "\n",
    "    driver.get(linha['Magazine Luiza'])\n",
    "    produto_magalu = driver.find_element_by_class_name('price-template__text').text\n",
    "    print(\"O valor da/o {} na Magazine Luiza ta R${:.2f}\".format(linha['Link Produto'],float(produto_magalu.replace('.','').replace(',','.'))))\n",
    "    \n",
    "    time.sleep(1)\n",
    "    \n",
    "    print('')\n",
    "    \n",
    "    preco_original = linha['Preço Original']\n",
    "    \n",
    "    preco_atual = [(produto_amazon,'Amazon'), (produto_americanas, 'Americanas'), (produto_magalu,'Magalu')]\n",
    "    \n",
    "\n",
    "\n"
   ]
  },
  {
   "cell_type": "markdown",
   "id": "6e66daae",
   "metadata": {},
   "source": [
    "# Pegando os menores valores dos produtos de cada loja de forma automatizada"
   ]
  },
  {
   "cell_type": "code",
   "execution_count": 9,
   "id": "35dcd4e2",
   "metadata": {},
   "outputs": [
    {
     "name": "stdout",
     "output_type": "stream",
     "text": [
      "Menor preço da iPhone 11 Apple 64GB Preto\n",
      "(3.584, 'Amazon')\n",
      "\n",
      "Menor preço da Smart TV LED 50'' LG Ultra HD 4K Thinq AI\n",
      "(2.969, 'Amazon')\n",
      "\n"
     ]
    },
    {
     "data": {
      "text/html": [
       "<div>\n",
       "<style scoped>\n",
       "    .dataframe tbody tr th:only-of-type {\n",
       "        vertical-align: middle;\n",
       "    }\n",
       "\n",
       "    .dataframe tbody tr th {\n",
       "        vertical-align: top;\n",
       "    }\n",
       "\n",
       "    .dataframe thead th {\n",
       "        text-align: right;\n",
       "    }\n",
       "</style>\n",
       "<table border=\"1\" class=\"dataframe\">\n",
       "  <thead>\n",
       "    <tr style=\"text-align: right;\">\n",
       "      <th></th>\n",
       "      <th>Link Produto</th>\n",
       "      <th>Amazon</th>\n",
       "      <th>Lojas Americanas</th>\n",
       "      <th>Magazine Luiza</th>\n",
       "      <th>Preço Original</th>\n",
       "      <th>Preço Atual</th>\n",
       "      <th>Local</th>\n",
       "    </tr>\n",
       "  </thead>\n",
       "  <tbody>\n",
       "    <tr>\n",
       "      <th>0</th>\n",
       "      <td>iPhone 11 Apple 64GB Preto</td>\n",
       "      <td>https://www.amazon.com.br/Apple-MHDA3BR-A-iPho...</td>\n",
       "      <td>https://www.americanas.com.br/produto/16113159...</td>\n",
       "      <td>https://www.magazineluiza.com.br/iphone-11-app...</td>\n",
       "      <td>5297</td>\n",
       "      <td>3.584</td>\n",
       "      <td>Amazon</td>\n",
       "    </tr>\n",
       "    <tr>\n",
       "      <th>1</th>\n",
       "      <td>Smart TV LED 50'' LG Ultra HD 4K Thinq AI</td>\n",
       "      <td>https://www.amazon.com.br/LG-Bluetooth-Intelig...</td>\n",
       "      <td>https://www.americanas.com.br/produto/39640024...</td>\n",
       "      <td>https://www.magazineluiza.com.br/smart-tv-led-...</td>\n",
       "      <td>2900</td>\n",
       "      <td>2.969</td>\n",
       "      <td>Amazon</td>\n",
       "    </tr>\n",
       "  </tbody>\n",
       "</table>\n",
       "</div>"
      ],
      "text/plain": [
       "                                Link Produto  \\\n",
       "0                 iPhone 11 Apple 64GB Preto   \n",
       "1  Smart TV LED 50'' LG Ultra HD 4K Thinq AI   \n",
       "\n",
       "                                              Amazon  \\\n",
       "0  https://www.amazon.com.br/Apple-MHDA3BR-A-iPho...   \n",
       "1  https://www.amazon.com.br/LG-Bluetooth-Intelig...   \n",
       "\n",
       "                                    Lojas Americanas  \\\n",
       "0  https://www.americanas.com.br/produto/16113159...   \n",
       "1  https://www.americanas.com.br/produto/39640024...   \n",
       "\n",
       "                                      Magazine Luiza  Preço Original  \\\n",
       "0  https://www.magazineluiza.com.br/iphone-11-app...            5297   \n",
       "1  https://www.magazineluiza.com.br/smart-tv-led-...            2900   \n",
       "\n",
       "  Preço Atual   Local  \n",
       "0       3.584  Amazon  \n",
       "1       2.969  Amazon  "
      ]
     },
     "metadata": {},
     "output_type": "display_data"
    }
   ],
   "source": [
    "driver = webdriver.Firefox()\n",
    "\n",
    "\n",
    "for i,linha in produtos_df.iterrows():\n",
    "\n",
    "    driver.get(linha['Amazon'])\n",
    "    produto_amazon = driver.find_element_by_class_name('a-price-whole').text\n",
    "    produto_amazon = float(produto_amazon)\n",
    "    \n",
    "    time.sleep(3)\n",
    "    \n",
    "    driver.get(linha['Lojas Americanas'])\n",
    "    produto_americanas = driver.find_element_by_class_name('styles__PriceText-sc-x06r9i-0').text\n",
    "    produto_americanas = float(produto_americanas.replace('R$',\"\").replace('.','').replace(',','.'))\n",
    "\n",
    "    time.sleep(1)\n",
    "    \n",
    "    driver.get(linha['Magazine Luiza'])\n",
    "    produto_magalu = driver.find_element_by_class_name('price-template__text').text\n",
    "    produto_magalu = float(produto_magalu.replace('.','').replace(',','.'))\n",
    "  \n",
    "    time.sleep(1)\n",
    "    \n",
    "    preco_original = linha['Preço Original']\n",
    "    \n",
    "    preco_atual = [(produto_amazon,'Amazon'), (produto_americanas, 'Americanas'), (produto_magalu,'Magalu')]\n",
    "    preco_atual.sort()\n",
    "    print(\"Menor preço da {}\".format(linha['Link Produto']))\n",
    "    print(preco_atual[0])\n",
    "    print('')\n",
    "    produtos_df.loc[i, 'Preço Atual'] = preco_atual[0][0]\n",
    "    produtos_df.loc[i, 'Local'] = preco_atual[0][1]\n",
    "display(produtos_df)"
   ]
  },
  {
   "cell_type": "markdown",
   "id": "8d9d0d52",
   "metadata": {},
   "source": [
    "# Criando uma tabela com os preços atualizado dos produtos"
   ]
  },
  {
   "cell_type": "code",
   "execution_count": 10,
   "id": "16f8605f",
   "metadata": {},
   "outputs": [],
   "source": [
    "produtos_df.to_excel('Produtos-Atualizados.xlsx')"
   ]
  }
 ],
 "metadata": {
  "kernelspec": {
   "display_name": "Python 3 (ipykernel)",
   "language": "python",
   "name": "python3"
  },
  "language_info": {
   "codemirror_mode": {
    "name": "ipython",
    "version": 3
   },
   "file_extension": ".py",
   "mimetype": "text/x-python",
   "name": "python",
   "nbconvert_exporter": "python",
   "pygments_lexer": "ipython3",
   "version": "3.8.10"
  }
 },
 "nbformat": 4,
 "nbformat_minor": 5
}
